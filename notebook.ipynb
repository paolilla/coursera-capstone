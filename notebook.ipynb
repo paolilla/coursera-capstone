{
 "cells": [
  {
   "attachments": {},
   "cell_type": "markdown",
   "metadata": {},
   "source": [
    "# IBM Ciencia de Datos\n",
    "### Notebook de Proyecto Final\n",
    "\n",
    "Este Jupyter Notebook será utilizado para la creación del proyecto capstone de la especialización IBM Ciencia de Datos."
   ]
  },
  {
   "cell_type": "code",
   "execution_count": 1,
   "metadata": {},
   "outputs": [
    {
     "name": "stdout",
     "output_type": "stream",
     "text": [
      "¡Hola, proyecto final del curso!\n"
     ]
    }
   ],
   "source": [
    "import pandas as pd\n",
    "import numpy as np\n",
    "\n",
    "print('¡Hola, proyecto final del curso!')"
   ]
  }
 ],
 "metadata": {
  "kernelspec": {
   "display_name": "Python 3",
   "language": "python",
   "name": "python3"
  },
  "language_info": {
   "codemirror_mode": {
    "name": "ipython",
    "version": 3
   },
   "file_extension": ".py",
   "mimetype": "text/x-python",
   "name": "python",
   "nbconvert_exporter": "python",
   "pygments_lexer": "ipython3",
   "version": "3.10.4"
  },
  "orig_nbformat": 4,
  "vscode": {
   "interpreter": {
    "hash": "0aff90fda30f4767a0e50784a1829765a1bf8962c70b312efdd1a5e4af0efa99"
   }
  }
 },
 "nbformat": 4,
 "nbformat_minor": 2
}
