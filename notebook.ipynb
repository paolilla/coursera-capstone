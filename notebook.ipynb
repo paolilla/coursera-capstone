{
 "cells": [
  {
   "attachments": {},
   "cell_type": "markdown",
   "metadata": {},
   "source": [
    "# IBM Ciencia de Datos\n",
    "### Notebook de Proyecto Final\n",
    "\n",
    "Este Jupyter Notebook será utilizado para la creación del proyecto capstone de la especialización IBM Ciencia de Datos."
   ]
  },
  {
   "cell_type": "code",
   "execution_count": null,
   "metadata": {},
   "outputs": [],
   "source": [
    "import pandas as pd\n",
    "import numpy as np\n",
    "\n",
    "print('¡Hola, proyecto final del curso!')"
   ]
  }
 ],
 "metadata": {
  "language_info": {
   "name": "python"
  },
  "orig_nbformat": 4
 },
 "nbformat": 4,
 "nbformat_minor": 2
}
