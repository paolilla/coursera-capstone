{
 "cells": [
  {
   "attachments": {},
   "cell_type": "markdown",
   "metadata": {},
   "source": [
    "# Análisis de ubicación óptima para un restaurante de comida salvadoreña en el área de Washington D.C.\n",
    "\n",
    "Ciencia de Datos Aplicada de IBM - Curso Capstone\n",
    "\n",
    "Realizado por Paola Raquel Jiménez"
   ]
  },
  {
   "attachments": {},
   "cell_type": "markdown",
   "metadata": {},
   "source": [
    "## 1. Introducción\n",
    "\n",
    "### 1.1 Antecedentes\n",
    "\n",
    "El Salvador tiene, según publica la ONU, 1.600.739 emigrantes, lo que supone un 24,8% de la población de El Salvador. Los emigrantes de El Salvador viajan principalmente a Estados Unidos, donde van el 89,28%, seguido de lejos por Canadá, el 3,20% y Guatemala, el 1,23%. En 2010, había 2.195.477 salvadoreños en Estados Unidos, la cuarta comunidad hispana más grande por nación de ascendencia. Según la Oficina del Censo, en 2016 los salvadoreños representaban el 3,8% del total de la población hispana de Estados Unidos. \n",
    "\n",
    "El área de **Washington D.C.** es actualmente la única zona metropolitana del país donde los salvadoreños son mayoría entre los hispanos, y están más concentrados en los suburbios del norte de Virginia y Maryland. En Washington D.C. propiamente dicho, el **32% de la población hispana son salvadoreños**, el mayor porcentaje de la ciudad. En el área metropolitana de Washington, los salvadoreños que llegaron a la zona durante la década de 1980 trabajando en la construcción o en el sector servicios se están convirtiendo en propietarios de negocios. Estos propietarios de pequeñas empresas suman los 4,000 y por lo general tienden a estar en las industrias de la construcción, restaurantes y limpieza.\n",
    "\n",
    "### 1.2 Problema\n",
    "El problema que buscamos resolver es el de la inauguración de un nuevo restaurante de comida salvadoreña en Washington D.C. dada la demanda y la significante población de origen salvadoreño que habita la zona. \n",
    "Dado que hay muchos restaurantes, intentaremos detectar localizaciones que no estén abarrotadas de restaurantes. También estamos especialmente interesados en zonas sin restaurantes salvadoreños en los alrededores. También preferiríamos ubicaciones lo más cerca posible del centro de cada vecindario a analizar, siempre que se cumplan las dos primeras condiciones.\n",
    "\n",
    "### 1.3 Interesados\n",
    "En este proyecto trataremos de encontrar una ubicación óptima para un restaurante. En concreto, este informe irá dirigido a los posibles empresarios de ascendencia salvadoreña radicados en Estados Unidos que esten interesados en abrir un restaurante salvadoreño o pupusería en Washington D.C.\n",
    "\n",
    "## 2. Datos\n",
    "\n",
    "### 2.1 Fuentes de datos\n",
    "\n",
    "Según la definición de nuestro problema, los factores que influirán en nuestra decisión son:\n",
    "* El número de restaurantes existentes en el barrio (cualquier tipo de restaurante)\n",
    "* El número y distancia de restaurantes salvadoreños en el vecindario (si los hay)\n",
    "* La distancia del barrio al centro de la ciudad de Washington D.C.\n",
    "\n",
    "Para resolver el problema presentado en este proyecto se necesitará utilizar conjuntos de datos públicos obtenidos de la web así como conjuntos de datos extraídos de la API de Foursquare.\n",
    "\n",
    "1. [Neighborhood Labels](https://opendata.dc.gov/datasets/DCGIS::neighborhood-labels/about) (Obtenido de Open Data DC)\n",
    "\n",
    "Este conjunto de datos fue creado por la Oficina de Planificación de D.C. y proporciona una representación simplificada de los vecindarios del Distrito de Columbia. La Oficina de Planificación utiliza estos límites para determinar las ubicaciones apropiadas para colocar los nombres de los vecindarios en los mapas.\n",
    "\n",
    "|Nombre|Tipo|\n",
    "|--|--|\n",
    "|GIS_ID|Texto|\n",
    "|NAME|Texto|\n",
    "|WEB_URL|Texto|\n",
    "|LABEL_NAME|Texto|\n",
    "|DATELASTMODIFIED|Tiempo|\n",
    "|CREATED|Tiempo|\n",
    "|EDITED|Tiempo|\n",
    "\n",
    "2. Restaurant Data (Extraído de Foursquare)\n",
    "\n",
    "El número de restaurantes, su tipo y su ubicación en cada vecindario serán obtenidos usando **Foursquare API**."
   ]
  }
 ],
 "metadata": {
  "kernelspec": {
   "display_name": "Python 3",
   "language": "python",
   "name": "python3"
  },
  "language_info": {
   "name": "python",
   "version": "3.10.4 (tags/v3.10.4:9d38120, Mar 23 2022, 23:13:41) [MSC v.1929 64 bit (AMD64)]"
  },
  "orig_nbformat": 4,
  "vscode": {
   "interpreter": {
    "hash": "0aff90fda30f4767a0e50784a1829765a1bf8962c70b312efdd1a5e4af0efa99"
   }
  }
 },
 "nbformat": 4,
 "nbformat_minor": 2
}
